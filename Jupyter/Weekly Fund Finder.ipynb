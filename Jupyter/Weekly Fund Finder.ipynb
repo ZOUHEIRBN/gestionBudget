{
 "cells": [
  {
   "cell_type": "code",
   "execution_count": 1,
   "metadata": {},
   "outputs": [],
   "source": [
    "from mysql import connector as con"
   ]
  },
  {
   "cell_type": "code",
   "execution_count": 2,
   "metadata": {},
   "outputs": [
    {
     "name": "stdout",
     "output_type": "stream",
     "text": [
      "MySQLCursor: (Nothing executed yet)\n"
     ]
    }
   ],
   "source": [
    "db = con.connect(\n",
    "  host=\"localhost\",\n",
    "  user=\"root\",\n",
    "  password=\"zouheir6\",\n",
    "  database=\"gestion_budget\"\n",
    ")\n",
    "cur = db.cursor()\n",
    "\n",
    "print(cur)"
   ]
  },
  {
   "cell_type": "code",
   "execution_count": 11,
   "metadata": {},
   "outputs": [],
   "source": [
    "sheets = pd.ExcelFile(\"C://Users//Zouheir//Angular//gestion-budget/Situation caisse 07-12 au 12-12-2020.xlsx\").sheet_names"
   ]
  },
  {
   "cell_type": "code",
   "execution_count": 21,
   "metadata": {},
   "outputs": [
    {
     "data": {
      "text/html": [
       "<div>\n",
       "<style scoped>\n",
       "    .dataframe tbody tr th:only-of-type {\n",
       "        vertical-align: middle;\n",
       "    }\n",
       "\n",
       "    .dataframe tbody tr th {\n",
       "        vertical-align: top;\n",
       "    }\n",
       "\n",
       "    .dataframe thead th {\n",
       "        text-align: right;\n",
       "    }\n",
       "</style>\n",
       "<table border=\"1\" class=\"dataframe\">\n",
       "  <thead>\n",
       "    <tr style=\"text-align: right;\">\n",
       "      <th></th>\n",
       "      <th>budget_type</th>\n",
       "      <th>market_ref</th>\n",
       "      <th>rubric</th>\n",
       "      <th>accountant_no</th>\n",
       "      <th>operation</th>\n",
       "      <th>psa</th>\n",
       "      <th>najd</th>\n",
       "      <th>planning_company</th>\n",
       "      <th>xy_advisor</th>\n",
       "      <th>holding</th>\n",
       "      <th>total_sum</th>\n",
       "    </tr>\n",
       "  </thead>\n",
       "  <tbody>\n",
       "    <tr>\n",
       "      <th>0</th>\n",
       "      <td>Fonctionnement</td>\n",
       "      <td></td>\n",
       "      <td>Achats non stockés de matières et de fournitures</td>\n",
       "      <td>61227</td>\n",
       "      <td>Fournitures de bureau</td>\n",
       "      <td>0</td>\n",
       "      <td>0.0</td>\n",
       "      <td>0.0</td>\n",
       "      <td>0.0</td>\n",
       "      <td>0.0</td>\n",
       "      <td>0.0</td>\n",
       "    </tr>\n",
       "    <tr>\n",
       "      <th>1</th>\n",
       "      <td></td>\n",
       "      <td></td>\n",
       "      <td></td>\n",
       "      <td>61251</td>\n",
       "      <td>Achats de fournitures non stockables (Eau)</td>\n",
       "      <td>0</td>\n",
       "      <td>0.0</td>\n",
       "      <td>0.0</td>\n",
       "      <td>0.0</td>\n",
       "      <td>0.0</td>\n",
       "      <td>0.0</td>\n",
       "    </tr>\n",
       "    <tr>\n",
       "      <th>2</th>\n",
       "      <td></td>\n",
       "      <td></td>\n",
       "      <td></td>\n",
       "      <td></td>\n",
       "      <td>Achats de fournitures non stockables (Electric...</td>\n",
       "      <td>0</td>\n",
       "      <td>0.0</td>\n",
       "      <td>0.0</td>\n",
       "      <td>0.0</td>\n",
       "      <td>0.0</td>\n",
       "      <td>0.0</td>\n",
       "    </tr>\n",
       "    <tr>\n",
       "      <th>3</th>\n",
       "      <td></td>\n",
       "      <td></td>\n",
       "      <td></td>\n",
       "      <td></td>\n",
       "      <td>Achats de fournitures non stockables (Carburant)</td>\n",
       "      <td>0</td>\n",
       "      <td>0.0</td>\n",
       "      <td>0.0</td>\n",
       "      <td>0.0</td>\n",
       "      <td>200.0</td>\n",
       "      <td>200.0</td>\n",
       "    </tr>\n",
       "    <tr>\n",
       "      <th>4</th>\n",
       "      <td></td>\n",
       "      <td></td>\n",
       "      <td>Locations et charges locatives</td>\n",
       "      <td>61312</td>\n",
       "      <td>Location de constructions</td>\n",
       "      <td>0</td>\n",
       "      <td>0.0</td>\n",
       "      <td>0.0</td>\n",
       "      <td>0.0</td>\n",
       "      <td>0.0</td>\n",
       "      <td>0.0</td>\n",
       "    </tr>\n",
       "  </tbody>\n",
       "</table>\n",
       "</div>"
      ],
      "text/plain": [
       "      budget_type market_ref  \\\n",
       "0  Fonctionnement              \n",
       "1                              \n",
       "2                              \n",
       "3                              \n",
       "4                              \n",
       "\n",
       "                                             rubric accountant_no  \\\n",
       "0  Achats non stockés de matières et de fournitures         61227   \n",
       "1                                                           61251   \n",
       "2                                                                   \n",
       "3                                                                   \n",
       "4                    Locations et charges locatives         61312   \n",
       "\n",
       "                                           operation psa  najd  \\\n",
       "0                              Fournitures de bureau   0   0.0   \n",
       "1         Achats de fournitures non stockables (Eau)   0   0.0   \n",
       "2  Achats de fournitures non stockables (Electric...   0   0.0   \n",
       "3   Achats de fournitures non stockables (Carburant)   0   0.0   \n",
       "4                         Location de constructions    0   0.0   \n",
       "\n",
       "   planning_company  xy_advisor  holding  total_sum  \n",
       "0               0.0         0.0      0.0        0.0  \n",
       "1               0.0         0.0      0.0        0.0  \n",
       "2               0.0         0.0      0.0        0.0  \n",
       "3               0.0         0.0    200.0      200.0  \n",
       "4               0.0         0.0      0.0        0.0  "
      ]
     },
     "execution_count": 21,
     "metadata": {},
     "output_type": "execute_result"
    }
   ],
   "source": [
    "import pandas as pd\n",
    "import json\n",
    "week_dict = {}\n",
    "for i, sh in enumerate(sheets[:-1]):\n",
    "    xls = pd.read_excel(\"C://Users//Zouheir//Angular//gestion-budget/Situation caisse 07-12 au 12-12-2020.xlsx\", sheet_name=\"Lundi \", header=6)\n",
    "    rename_dict = {'Budget': 'budget_type',\n",
    "     'Référence marché': 'market_ref',\n",
    "     'Rubrique': 'rubric',\n",
    "     'Compte comptable ': 'accountant_no',\n",
    "     'Opération': 'operation',\n",
    "     'Private Security Atlanta': 'psa',\n",
    "     'Najd': 'najd',\n",
    "     \"Sté d'Aménagement\": 'planning_company',\n",
    "     'XY CONSEIL': 'xy_advisor',\n",
    "     'Direction des Etudes (Holding)': 'holding',\n",
    "     'TOTAL': 'total_sum'}\n",
    "    xls.rename(columns=rename_dict, inplace=True)\n",
    "    # xls.drop(labels=['Unnamed: 11', 'Unnamed: 0'], axis='columns', inplace=True)\n",
    "    # xls.dropna(subset=['MO'], axis='index', inplace=True)\n",
    "    # xls.set_index('Unnamed: 0', inplace=True)\n",
    "    xls = xls.apply(lambda x: x.fillna(0) if x.dtype.kind in 'biufc' else x.fillna(''))\n",
    "    week_dict[f\"{i+21}/12/2020\"] = xls.to_dict(orient='record')\n",
    "    \n",
    "\n",
    "\n",
    "\n",
    "with open('database.json', 'w+') as f:\n",
    "    json.dump({'funds': week_dict}, f)\n",
    "\n",
    "xls.head()"
   ]
  },
  {
   "cell_type": "code",
   "execution_count": 4,
   "metadata": {},
   "outputs": [],
   "source": [
    "objlist = xls.to_dict(orient='record')"
   ]
  },
  {
   "cell_type": "code",
   "execution_count": 11,
   "metadata": {},
   "outputs": [],
   "source": [
    "for o in objlist:\n",
    "    o['DATE DE COMMENCEMENT'] = str(o['DATE DE COMMENCEMENT'])\n",
    "    o['DATE DE FIN'] = str(o['DATE DE FIN'])\n",
    "    \n",
    "#     sql = f\"\"\"INSERT INTO `markets` (`market_id`, `mo`, `market_no`, `object`, `begin_date`, `end_date`, `deadline`, `def_caution`, `total_sum`, `trimester_sum`, `agents_number`) \n",
    "#     VALUES (NULL, \"{o['MO']}\", \"{o['N° MARCHE']}\", \"{o['OBJET']}\", \"{o['DATE DE COMMENCEMENT']}\", \"{o['DATE DE FIN']}\", '{o[\"DELAI\"]}', '{o['CAUTION DEFINITIVE']}', '{o['MONTANT TOTAL (TTC)']}', '{o[\"MONTANT TRIMESTRIEL /FACTURE (TTC)\"]}', '{o[\"NBRE AGENTS\"]}');\"\"\"\n",
    "#     print(sql, '\\n')\n",
    "#     cur.execute(sql)\n",
    "\n",
    "# db.commit()"
   ]
  },
  {
   "cell_type": "code",
   "execution_count": 6,
   "metadata": {},
   "outputs": [
    {
     "data": {
      "text/plain": [
       "{'MO': 'Chef du Gouvernement Direction des Affaires Administratives et Financières',\n",
       " 'N° MARCHE': '01/2018',\n",
       " 'OBJET': 'Gardiennage et surveillance des Bâtiments Administratifs des Services du Chef du Gouvernement',\n",
       " 'DATE DE COMMENCEMENT': Timestamp('2018-03-16 00:00:00'),\n",
       " 'DELAI': 'reconductible en 3 ans',\n",
       " 'DATE DE FIN': Timestamp('2021-03-01 00:00:00'),\n",
       " 'CAUTION DEFINITIVE': 22212,\n",
       " 'MONTANT TOTAL (TTC)': 740400.0,\n",
       " 'MONTANT TRIMESTRIEL /FACTURE (TTC)': 185100,\n",
       " 'NBRE AGENTS': 17.0}"
      ]
     },
     "execution_count": 6,
     "metadata": {},
     "output_type": "execute_result"
    }
   ],
   "source": [
    "o"
   ]
  },
  {
   "cell_type": "code",
   "execution_count": 9,
   "metadata": {},
   "outputs": [
    {
     "data": {
      "text/plain": [
       "'2018-03-16 00:00:00'"
      ]
     },
     "execution_count": 9,
     "metadata": {},
     "output_type": "execute_result"
    }
   ],
   "source": [
    "str(o['DATE DE COMMENCEMENT'])"
   ]
  },
  {
   "cell_type": "code",
   "execution_count": 7,
   "metadata": {},
   "outputs": [
    {
     "name": "stdout",
     "output_type": "stream",
     "text": [
      "<class 'pandas.core.frame.DataFrame'>\n",
      "Int64Index: 13 entries, 0 to 22\n",
      "Data columns (total 10 columns):\n",
      "MO                                    13 non-null object\n",
      "N° MARCHE                             13 non-null object\n",
      "OBJET                                 13 non-null object\n",
      "DATE DE COMMENCEMENT                  13 non-null datetime64[ns]\n",
      "DELAI                                 13 non-null object\n",
      "DATE DE FIN                           13 non-null datetime64[ns]\n",
      "CAUTION DEFINITIVE                    13 non-null object\n",
      "MONTANT TOTAL (TTC)                   13 non-null float64\n",
      "MONTANT TRIMESTRIEL /FACTURE (TTC)    13 non-null object\n",
      "NBRE AGENTS                           13 non-null float64\n",
      "dtypes: datetime64[ns](2), float64(2), object(6)\n",
      "memory usage: 1.1+ KB\n"
     ]
    }
   ],
   "source": [
    "xls.info()"
   ]
  },
  {
   "cell_type": "code",
   "execution_count": 12,
   "metadata": {},
   "outputs": [],
   "source": []
  },
  {
   "cell_type": "code",
   "execution_count": null,
   "metadata": {},
   "outputs": [],
   "source": []
  }
 ],
 "metadata": {
  "kernelspec": {
   "display_name": "Python 3",
   "language": "python",
   "name": "python3"
  },
  "language_info": {
   "codemirror_mode": {
    "name": "ipython",
    "version": 3
   },
   "file_extension": ".py",
   "mimetype": "text/x-python",
   "name": "python",
   "nbconvert_exporter": "python",
   "pygments_lexer": "ipython3",
   "version": "3.6.8"
  }
 },
 "nbformat": 4,
 "nbformat_minor": 2
}
