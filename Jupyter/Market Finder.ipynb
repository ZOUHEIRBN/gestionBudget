{
 "cells": [
  {
   "cell_type": "code",
   "execution_count": 1,
   "metadata": {},
   "outputs": [
    {
     "data": {
      "text/html": [
       "<div>\n",
       "<style scoped>\n",
       "    .dataframe tbody tr th:only-of-type {\n",
       "        vertical-align: middle;\n",
       "    }\n",
       "\n",
       "    .dataframe tbody tr th {\n",
       "        vertical-align: top;\n",
       "    }\n",
       "\n",
       "    .dataframe thead th {\n",
       "        text-align: right;\n",
       "    }\n",
       "</style>\n",
       "<table border=\"1\" class=\"dataframe\">\n",
       "  <thead>\n",
       "    <tr style=\"text-align: right;\">\n",
       "      <th></th>\n",
       "      <th>mo</th>\n",
       "      <th>market_no</th>\n",
       "      <th>object</th>\n",
       "      <th>begin_date</th>\n",
       "      <th>deadline</th>\n",
       "      <th>end_date</th>\n",
       "      <th>def_caution</th>\n",
       "      <th>total_sum</th>\n",
       "      <th>trimester_sum</th>\n",
       "      <th>agents_number</th>\n",
       "    </tr>\n",
       "  </thead>\n",
       "  <tbody>\n",
       "    <tr>\n",
       "      <th>0</th>\n",
       "      <td>Chef du Gouvernement Direction des Affaires Ad...</td>\n",
       "      <td>01/2018</td>\n",
       "      <td>Gardiennage et surveillance des Bâtiments Admi...</td>\n",
       "      <td>2018-03-16</td>\n",
       "      <td>reconductible en 3 ans</td>\n",
       "      <td>2021-03-01</td>\n",
       "      <td>22212</td>\n",
       "      <td>740400.00</td>\n",
       "      <td>185100</td>\n",
       "      <td>17.0</td>\n",
       "    </tr>\n",
       "    <tr>\n",
       "      <th>2</th>\n",
       "      <td>Direction Réginale de l'Habitat et de la Polit...</td>\n",
       "      <td>01/DPS/GARD/2018</td>\n",
       "      <td>Les prestations de gardiennage, de sécurité et...</td>\n",
       "      <td>2018-07-01</td>\n",
       "      <td>reconductible en 3 ans</td>\n",
       "      <td>2020-12-31</td>\n",
       "      <td>4320</td>\n",
       "      <td>143996.88</td>\n",
       "      <td>35900,59/ 36295,10</td>\n",
       "      <td>4.0</td>\n",
       "    </tr>\n",
       "    <tr>\n",
       "      <th>4</th>\n",
       "      <td>Conseil de la Concurrence</td>\n",
       "      <td>01CCRG/2018</td>\n",
       "      <td>Prestations de sécurité et surveillance et de ...</td>\n",
       "      <td>2018-11-01</td>\n",
       "      <td>reconductible en 3 ans</td>\n",
       "      <td>2020-12-31</td>\n",
       "      <td>12466</td>\n",
       "      <td>415501.92</td>\n",
       "      <td>103875</td>\n",
       "      <td>7.0</td>\n",
       "    </tr>\n",
       "    <tr>\n",
       "      <th>6</th>\n",
       "      <td>Institut National de l'Aménagement et de l'Urb...</td>\n",
       "      <td>1/2019</td>\n",
       "      <td>Gardiennage et surveillance des locaux de l'INAU</td>\n",
       "      <td>2019-04-01</td>\n",
       "      <td>reconductible en 3 ans</td>\n",
       "      <td>2022-04-01</td>\n",
       "      <td>6908</td>\n",
       "      <td>230256.00</td>\n",
       "      <td>57564</td>\n",
       "      <td>6.0</td>\n",
       "    </tr>\n",
       "    <tr>\n",
       "      <th>8</th>\n",
       "      <td>Direction Régionale du Ministère de la Santé à...</td>\n",
       "      <td>03/2020</td>\n",
       "      <td>Surveillance et Gardiennage des locaux de la D...</td>\n",
       "      <td>2020-07-04</td>\n",
       "      <td>reconductible en 3 ans</td>\n",
       "      <td>2023-07-04</td>\n",
       "      <td>12564.1</td>\n",
       "      <td>418804.56</td>\n",
       "      <td>104701</td>\n",
       "      <td>5.0</td>\n",
       "    </tr>\n",
       "  </tbody>\n",
       "</table>\n",
       "</div>"
      ],
      "text/plain": [
       "                                                  mo          market_no  \\\n",
       "0  Chef du Gouvernement Direction des Affaires Ad...            01/2018   \n",
       "2  Direction Réginale de l'Habitat et de la Polit...  01/DPS/GARD/2018    \n",
       "4                          Conseil de la Concurrence        01CCRG/2018   \n",
       "6  Institut National de l'Aménagement et de l'Urb...             1/2019   \n",
       "8  Direction Régionale du Ministère de la Santé à...            03/2020   \n",
       "\n",
       "                                              object begin_date  \\\n",
       "0  Gardiennage et surveillance des Bâtiments Admi... 2018-03-16   \n",
       "2  Les prestations de gardiennage, de sécurité et... 2018-07-01   \n",
       "4  Prestations de sécurité et surveillance et de ... 2018-11-01   \n",
       "6   Gardiennage et surveillance des locaux de l'INAU 2019-04-01   \n",
       "8  Surveillance et Gardiennage des locaux de la D... 2020-07-04   \n",
       "\n",
       "                 deadline   end_date def_caution  total_sum  \\\n",
       "0  reconductible en 3 ans 2021-03-01       22212  740400.00   \n",
       "2  reconductible en 3 ans 2020-12-31        4320  143996.88   \n",
       "4  reconductible en 3 ans 2020-12-31       12466  415501.92   \n",
       "6  reconductible en 3 ans 2022-04-01        6908  230256.00   \n",
       "8  reconductible en 3 ans 2023-07-04     12564.1  418804.56   \n",
       "\n",
       "        trimester_sum  agents_number  \n",
       "0              185100           17.0  \n",
       "2  35900,59/ 36295,10            4.0  \n",
       "4              103875            7.0  \n",
       "6               57564            6.0  \n",
       "8              104701            5.0  "
      ]
     },
     "execution_count": 1,
     "metadata": {},
     "output_type": "execute_result"
    }
   ],
   "source": [
    "import pandas as pd\n",
    "\n",
    "xls = pd.read_excel(\"C:\\\\Users\\\\Zouheir\\\\Angular\\\\gestion-budget\\\\MARCHES EN COURS EXP.xlsx\", sheet_name=\"INFOS GENERALES MARCHES\")\n",
    "rename_dict = {'MO': 'mo',\n",
    " 'N° MARCHE': 'market_no',\n",
    " 'OBJET': 'object',\n",
    " 'DATE DE COMMENCEMENT': 'begin_date',\n",
    " 'DELAI': 'deadline',\n",
    " 'DATE DE FIN': 'end_date',\n",
    " 'CAUTION DEFINITIVE': 'def_caution',\n",
    " 'MONTANT TOTAL (TTC)': 'total_sum',\n",
    " 'MONTANT TRIMESTRIEL /FACTURE (TTC)': 'trimester_sum',\n",
    " 'NBRE AGENTS': 'agents_number'}\n",
    "xls.rename(columns=rename_dict, inplace=True)\n",
    "xls.drop(labels=['Unnamed: 11', 'Unnamed: 0'], axis='columns', inplace=True)\n",
    "xls.dropna(subset=['mo'], axis='index', inplace=True)\n",
    "# xls.set_index('Unnamed: 0', inplace=True)\n",
    "\n",
    "xls.head()"
   ]
  },
  {
   "cell_type": "code",
   "execution_count": 2,
   "metadata": {},
   "outputs": [],
   "source": [
    "objlist = xls.to_dict(orient='record')"
   ]
  },
  {
   "cell_type": "code",
   "execution_count": 3,
   "metadata": {},
   "outputs": [],
   "source": [
    "for o in objlist:\n",
    "    o['begin_date'] = str(o['begin_date'])\n",
    "    o['end_date'] = str(o['end_date'])\n",
    "    \n",
    "#     sql = f\"\"\"INSERT INTO `markets` (`market_id`, `mo`, `market_no`, `object`, `begin_date`, `end_date`, `deadline`, `def_caution`, `total_sum`, `trimester_sum`, `agents_number`) \n",
    "#     VALUES (NULL, \"{o['MO']}\", \"{o['N° MARCHE']}\", \"{o['OBJET']}\", \"{o['DATE DE COMMENCEMENT']}\", \"{o['DATE DE FIN']}\", '{o[\"DELAI\"]}', '{o['CAUTION DEFINITIVE']}', '{o['MONTANT TOTAL (TTC)']}', '{o[\"MONTANT TRIMESTRIEL /FACTURE (TTC)\"]}', '{o[\"NBRE AGENTS\"]}');\"\"\"\n",
    "#     print(sql, '\\n')\n",
    "#     cur.execute(sql)\n",
    "\n",
    "# db.commit()"
   ]
  },
  {
   "cell_type": "code",
   "execution_count": 4,
   "metadata": {},
   "outputs": [
    {
     "data": {
      "text/plain": [
       "{'mo': 'Université Hassan II Casablanca',\n",
       " 'market_no': '05FUH2C/2020',\n",
       " 'object': \"Prestation de jardinage, entretien et maintenance des espaces verts des sites de l'université Hassan II de Casablanca Lot 1\",\n",
       " 'begin_date': '2020-10-01 00:00:00',\n",
       " 'deadline': 'reconductible en 3 ans',\n",
       " 'end_date': '2023-10-01 00:00:00',\n",
       " 'def_caution': 17223,\n",
       " 'total_sum': 574070.89,\n",
       " 'trimester_sum': 143517.7225,\n",
       " 'agents_number': 13.0}"
      ]
     },
     "execution_count": 4,
     "metadata": {},
     "output_type": "execute_result"
    }
   ],
   "source": [
    "o"
   ]
  },
  {
   "cell_type": "code",
   "execution_count": 6,
   "metadata": {},
   "outputs": [
    {
     "data": {
      "text/plain": [
       "'2023-10-01 00:00:00'"
      ]
     },
     "execution_count": 6,
     "metadata": {},
     "output_type": "execute_result"
    }
   ],
   "source": [
    "str(o['end_date'])"
   ]
  },
  {
   "cell_type": "code",
   "execution_count": null,
   "metadata": {},
   "outputs": [],
   "source": []
  },
  {
   "cell_type": "code",
   "execution_count": null,
   "metadata": {},
   "outputs": [],
   "source": [
    "xls.info()"
   ]
  },
  {
   "cell_type": "code",
   "execution_count": null,
   "metadata": {},
   "outputs": [],
   "source": [
    "# import json\n",
    "\n",
    "# with open('database.json', 'w+') as f:\n",
    "#     json.dump({'markets': objlist}, f)"
   ]
  },
  {
   "cell_type": "code",
   "execution_count": 11,
   "metadata": {},
   "outputs": [
    {
     "name": "stderr",
     "output_type": "stream",
     "text": [
      "C:\\Users\\Zouheir\\AppData\\Local\\conda\\conda\\envs\\opencv-env\\lib\\site-packages\\ipykernel_launcher.py:8: DeprecationWarning: insert is deprecated. Use insert_one or insert_many instead.\n",
      "  \n"
     ]
    },
    {
     "data": {
      "text/plain": [
       "[ObjectId('5fef58ae0e0921e195a50bcd'),\n",
       " ObjectId('5fef58ae0e0921e195a50bce'),\n",
       " ObjectId('5fef58ae0e0921e195a50bcf'),\n",
       " ObjectId('5fef58ae0e0921e195a50bd0'),\n",
       " ObjectId('5fef58ae0e0921e195a50bd1'),\n",
       " ObjectId('5fef58ae0e0921e195a50bd2'),\n",
       " ObjectId('5fef58ae0e0921e195a50bd3'),\n",
       " ObjectId('5fef58ae0e0921e195a50bd4'),\n",
       " ObjectId('5fef58ae0e0921e195a50bd5'),\n",
       " ObjectId('5fef58ae0e0921e195a50bd6'),\n",
       " ObjectId('5fef58ae0e0921e195a50bd7'),\n",
       " ObjectId('5fef58ae0e0921e195a50bd8'),\n",
       " ObjectId('5fef58ae0e0921e195a50bd9')]"
      ]
     },
     "execution_count": 11,
     "metadata": {},
     "output_type": "execute_result"
    }
   ],
   "source": [
    "from pymongo import MongoClient\n",
    "import time\n",
    "\n",
    "\n",
    "#Loading Database\n",
    "client = MongoClient(port=27017)\n",
    "database = client[\"GestionBudget\"]\n",
    "database['markets'].insert(objlist)"
   ]
  },
  {
   "cell_type": "code",
   "execution_count": 10,
   "metadata": {},
   "outputs": [
    {
     "data": {
      "text/plain": [
       "<pymongo.results.DeleteResult at 0x17e6ae24b08>"
      ]
     },
     "execution_count": 10,
     "metadata": {},
     "output_type": "execute_result"
    }
   ],
   "source": [
    "database['markets'].delete_many({})"
   ]
  },
  {
   "cell_type": "code",
   "execution_count": null,
   "metadata": {},
   "outputs": [],
   "source": []
  }
 ],
 "metadata": {
  "kernelspec": {
   "display_name": "Python 3",
   "language": "python",
   "name": "python3"
  },
  "language_info": {
   "codemirror_mode": {
    "name": "ipython",
    "version": 3
   },
   "file_extension": ".py",
   "mimetype": "text/x-python",
   "name": "python",
   "nbconvert_exporter": "python",
   "pygments_lexer": "ipython3",
   "version": "3.6.8"
  }
 },
 "nbformat": 4,
 "nbformat_minor": 2
}
